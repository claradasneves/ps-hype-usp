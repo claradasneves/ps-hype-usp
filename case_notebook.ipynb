{
 "cells": [
  {
   "cell_type": "markdown",
   "id": "eaa87105",
   "metadata": {},
   "source": [
    "<h2><b>Case Hype 2024_1</b></h2>\n",
    "<h3><b>Introdução</b></h3>\n",
    "<p> \n",
    "Os membros do grupo Hype estão sempre em busca de expandir seus horizontes. Cada integrante do grupo possui objetivos pessoais e profissionais únicos, mas todos compartilham o mesmo espírito de curiosidade e vontade de aprender.\n",
    "\n",
    "Nas reuniões regulares do grupo, cada membro compartilha suas metas e aspirações. Alguns estão focados em aprimorar suas habilidades técnicas, mergulhando a fundo em linguagens de programação ou explorando novas tecnologias emergentes. Outros estão mais interessados em desenvolver suas habilidades de liderança e comunicação, buscando oportunidades para assumir projetos desafiadores e trabalhar em equipe.\n",
    "\n",
    "Além dos objetivos individuais, os membros do grupo Hype também compartilham um objetivo comum: compreender melhor os dados relacionados aos salários dos profissionais de TI e as características que influenciam sua oscilação. Eles reconhecem a importância de entender como fatores como experiência profissional, modalidade de trabalho e tempo de empresa afetam os salários na indústria de tecnologia.\n",
    "\n",
    "Eles estão determinados a explorar os dados em profundidade, identificar padrões significativos e desenvolver modelos preditivos que possam fornecer orientação e clareza em um mercado de trabalho em constante evolução. \n",
    "</p>"
   ]
  },
  {
   "cell_type": "markdown",
   "id": "eb8ff8f4",
   "metadata": {},
   "source": [
    "<h3><b>Sobre o conjunto de dados</b></h3>\n",
    "\n",
    "<ol>\n",
    "    <li><b>pais:</b> País residente</li>\n",
    "    <li><b>continente:</b> Continente</li>\n",
    "    <li><b>idade:</b> Idade atual</li>\n",
    "    <li><b>faixa_idade:</b> Classificação de faixa etária</li>\n",
    "    <li><b>modalidade_exercicio:</b> Modalidade de exercício das atividades de TI</li>\n",
    "    <li><b>contrato_trabalho:</b> Contrato de trabalho, em relação ao período de trabalho</li>\n",
    "    <li><b>sou_estudante:</b> Se atualmente é estudante ou não</li>\n",
    "    <li><b>sou_aposentado:</b> Se está aposentado ou não</li>\n",
    "    <li><b>sou_freelancer:</b> Se atual como freelancer ou não</li>\n",
    "    <li><b>buscando_trabalho:</b> Se está buscando trabalho ou não</li>\n",
    "    <li><b>nivel_educacao:</b> Nível de escolaridade</li>\n",
    "    <li><b>intervalo_min_anos_exp_pessoal:</b> Intervalo mínimo de anos de contato/experiência total na área (não necessariamente profissional)</li>\n",
    "    <li><b>intervalo_max_anos_exp_pessoal:</b> Intervalo máximo de anos de contato/experiência total na área (não necessariamente profissional)</li>\n",
    "    <li><b>intervalo_min_anos_exp_profissional:</b> Intervalo mínimo de anos de experiência profissional total na área</li>\n",
    "    <li><b>intervalo_max_anos_exp_profissional:</b> Intervalo máximo de anos de experiência profissional total na área</li>\n",
    "    <li><b>anos_atividade_atual:</b> Anos de exerção da atividade atual (seja emprego, freelancer, etc.)</li>\n",
    "    <li><b>categoria_salario:</b> O salário representado em categorias</li>\n",
    "</ol>"
   ]
  },
  {
   "cell_type": "markdown",
   "id": "8a5ae116",
   "metadata": {},
   "source": [
    "<h3><b>Tarefas do Case</b></h3>\n",
    "\n",
    "<p>No geral, as tarefas se concentram no estudo e na compreensão dos dados, seja por meio de uma análise descritiva dos dados e na modelagem de um classificador para ser capaz de prever uma categoria de salário dado as características.</p>\n",
    "\n",
    "<p><b>As tarefas são dividas em 5 seções:</b></p>\n",
    "<ul>\n",
    "    <li><b>Descrição dos dados:</b> Responder algumas questões levantadas pelos membros do Hype. <b>(2,5)</b></li>\n",
    "    <li><b>Visualização dos dados:</b> Representação visual de algumas variáveis para facilitar o entedimento. <b>(1,5)</b></li>\n",
    "    <li><b>Processamento e transformação dos dados:</b> Algumas etapas que deverão preceder a etapa da modelagem. <b>(2,5)</b></li>\n",
    "    <li><b>Preparação dos dados e treinamento de um modelo classificador:</b> Treinamento de um modelo pré-implementado que classifica a faixa salarial. <b>(2,0)</b></li>\n",
    "    <li><b>Avaliação do modelo:</b> Calcular algumas métricas de avaliação no conjunto de teste. <b>(1,5)</b></li>\n",
    "</ul>\n",
    "\n",
    "<p><b>Editar somente onde estiver marcado como \"TODO\" na célula</b></p>"
   ]
  },
  {
   "cell_type": "markdown",
   "id": "3c82a2b7",
   "metadata": {},
   "source": [
    "<h3>Bibliotecas</h3> \n",
    "\n",
    "<p>Importação de bibliotecas que possivelmente serão utilizados ao longo do case</p>"
   ]
  },
  {
   "cell_type": "code",
   "execution_count": 1,
   "id": "680858f3",
   "metadata": {},
   "outputs": [
    {
     "name": "stdout",
     "output_type": "stream",
     "text": [
      "c:\\Python312\\python.exe\n"
     ]
    }
   ],
   "source": [
    "import sys\n",
    "print(sys.executable)"
   ]
  },
  {
   "cell_type": "code",
   "execution_count": 2,
   "id": "88e85449",
   "metadata": {},
   "outputs": [],
   "source": [
    "import pandas as pd\n",
    "import numpy as np\n",
    "from matplotlib import pyplot as plt\n",
    "from sklearn.preprocessing import *\n",
    "from sklearn.model_selection import *\n",
    "from sklearn.tree import DecisionTreeClassifier\n",
    "from sklearn.ensemble import RandomForestClassifier\n",
    "from sklearn.metrics import confusion_matrix, classification_report\n",
    "\n",
    "# =========== TODO (opcional) ===========\n",
    "# insira outras bibliotecas caso seja necessário...\n",
    "from scipy.stats import shapiro "
   ]
  },
  {
   "cell_type": "markdown",
   "id": "9a93a938",
   "metadata": {},
   "source": [
    "<h3>Leitura dos dados</h3>"
   ]
  },
  {
   "cell_type": "code",
   "execution_count": 9,
   "id": "8b749a3d",
   "metadata": {},
   "outputs": [],
   "source": [
    "df = pd.read_parquet('dataset/final_case.parquet')"
   ]
  },
  {
   "cell_type": "code",
   "execution_count": 6,
   "id": "29e697fd",
   "metadata": {},
   "outputs": [
    {
     "data": {
      "text/html": [
       "<div>\n",
       "<style scoped>\n",
       "    .dataframe tbody tr th:only-of-type {\n",
       "        vertical-align: middle;\n",
       "    }\n",
       "\n",
       "    .dataframe tbody tr th {\n",
       "        vertical-align: top;\n",
       "    }\n",
       "\n",
       "    .dataframe thead th {\n",
       "        text-align: right;\n",
       "    }\n",
       "</style>\n",
       "<table border=\"1\" class=\"dataframe\">\n",
       "  <thead>\n",
       "    <tr style=\"text-align: right;\">\n",
       "      <th></th>\n",
       "      <th>pais</th>\n",
       "      <th>continente</th>\n",
       "      <th>idade</th>\n",
       "      <th>faixa_idade</th>\n",
       "      <th>modalidade_exercicio</th>\n",
       "      <th>contrato_trabalho</th>\n",
       "      <th>sou_estudante</th>\n",
       "      <th>sou_aposentado</th>\n",
       "      <th>sou_freelancer</th>\n",
       "      <th>buscando_trabalho</th>\n",
       "      <th>nivel_educacao</th>\n",
       "      <th>intervalo_min_anos_exp_pessoal</th>\n",
       "      <th>intervalo_max_anos_exp_pessoal</th>\n",
       "      <th>intervalo_min_anos_exp_profissional</th>\n",
       "      <th>intervalo_max_anos_exp_profissional</th>\n",
       "      <th>anos_atividade_atual</th>\n",
       "      <th>categoria_salario</th>\n",
       "    </tr>\n",
       "  </thead>\n",
       "  <tbody>\n",
       "    <tr>\n",
       "      <th>57696</th>\n",
       "      <td>Bulgaria</td>\n",
       "      <td>Europe</td>\n",
       "      <td>42.0</td>\n",
       "      <td>Adults</td>\n",
       "      <td>Hybrid</td>\n",
       "      <td>Full-time</td>\n",
       "      <td>Nao</td>\n",
       "      <td>Nao</td>\n",
       "      <td>Nao</td>\n",
       "      <td>Nao</td>\n",
       "      <td>Bachelor</td>\n",
       "      <td>17.0</td>\n",
       "      <td>20.0</td>\n",
       "      <td>13.0</td>\n",
       "      <td>16.0</td>\n",
       "      <td>7.0</td>\n",
       "      <td>Low</td>\n",
       "    </tr>\n",
       "    <tr>\n",
       "      <th>63044</th>\n",
       "      <td>Romania</td>\n",
       "      <td>Europe</td>\n",
       "      <td>32.0</td>\n",
       "      <td>Youth</td>\n",
       "      <td>Remote</td>\n",
       "      <td>Full-time</td>\n",
       "      <td>Nao</td>\n",
       "      <td>Nao</td>\n",
       "      <td>Nao</td>\n",
       "      <td>Nao</td>\n",
       "      <td>Bachelor</td>\n",
       "      <td>5.0</td>\n",
       "      <td>8.0</td>\n",
       "      <td>1.0</td>\n",
       "      <td>4.0</td>\n",
       "      <td>1.0</td>\n",
       "      <td>Low</td>\n",
       "    </tr>\n",
       "    <tr>\n",
       "      <th>7158</th>\n",
       "      <td>France</td>\n",
       "      <td>Europe</td>\n",
       "      <td>34.0</td>\n",
       "      <td>Adults</td>\n",
       "      <td>Hybrid</td>\n",
       "      <td>Unemployed</td>\n",
       "      <td>Nao</td>\n",
       "      <td>Nao</td>\n",
       "      <td>Nao</td>\n",
       "      <td>Nao</td>\n",
       "      <td>Masters</td>\n",
       "      <td>5.0</td>\n",
       "      <td>8.0</td>\n",
       "      <td>5.0</td>\n",
       "      <td>8.0</td>\n",
       "      <td>3.0</td>\n",
       "      <td>Mid</td>\n",
       "    </tr>\n",
       "    <tr>\n",
       "      <th>76894</th>\n",
       "      <td>Russia</td>\n",
       "      <td>Asia</td>\n",
       "      <td>40.0</td>\n",
       "      <td>Adults</td>\n",
       "      <td>Hybrid</td>\n",
       "      <td>Full-time</td>\n",
       "      <td>Nao</td>\n",
       "      <td>Nao</td>\n",
       "      <td>Nao</td>\n",
       "      <td>Nao</td>\n",
       "      <td>Masters</td>\n",
       "      <td>21.0</td>\n",
       "      <td>24.0</td>\n",
       "      <td>13.0</td>\n",
       "      <td>16.0</td>\n",
       "      <td>10.0</td>\n",
       "      <td>Low</td>\n",
       "    </tr>\n",
       "    <tr>\n",
       "      <th>10461</th>\n",
       "      <td>India</td>\n",
       "      <td>Asia</td>\n",
       "      <td>33.0</td>\n",
       "      <td>Adults</td>\n",
       "      <td>Remote</td>\n",
       "      <td>Unemployed</td>\n",
       "      <td>Nao</td>\n",
       "      <td>Nao</td>\n",
       "      <td>Nao</td>\n",
       "      <td>Nao</td>\n",
       "      <td>Bachelor</td>\n",
       "      <td>9.0</td>\n",
       "      <td>12.0</td>\n",
       "      <td>9.0</td>\n",
       "      <td>12.0</td>\n",
       "      <td>6.0</td>\n",
       "      <td>Low</td>\n",
       "    </tr>\n",
       "  </tbody>\n",
       "</table>\n",
       "</div>"
      ],
      "text/plain": [
       "           pais continente  idade faixa_idade modalidade_exercicio  \\\n",
       "57696  Bulgaria     Europe   42.0      Adults               Hybrid   \n",
       "63044   Romania     Europe   32.0       Youth               Remote   \n",
       "7158     France     Europe   34.0      Adults               Hybrid   \n",
       "76894    Russia       Asia   40.0      Adults               Hybrid   \n",
       "10461     India       Asia   33.0      Adults               Remote   \n",
       "\n",
       "      contrato_trabalho sou_estudante sou_aposentado sou_freelancer  \\\n",
       "57696         Full-time           Nao            Nao            Nao   \n",
       "63044         Full-time           Nao            Nao            Nao   \n",
       "7158         Unemployed           Nao            Nao            Nao   \n",
       "76894         Full-time           Nao            Nao            Nao   \n",
       "10461        Unemployed           Nao            Nao            Nao   \n",
       "\n",
       "      buscando_trabalho nivel_educacao  intervalo_min_anos_exp_pessoal  \\\n",
       "57696               Nao       Bachelor                            17.0   \n",
       "63044               Nao       Bachelor                             5.0   \n",
       "7158                Nao        Masters                             5.0   \n",
       "76894               Nao        Masters                            21.0   \n",
       "10461               Nao       Bachelor                             9.0   \n",
       "\n",
       "       intervalo_max_anos_exp_pessoal  intervalo_min_anos_exp_profissional  \\\n",
       "57696                            20.0                                 13.0   \n",
       "63044                             8.0                                  1.0   \n",
       "7158                              8.0                                  5.0   \n",
       "76894                            24.0                                 13.0   \n",
       "10461                            12.0                                  9.0   \n",
       "\n",
       "       intervalo_max_anos_exp_profissional  anos_atividade_atual  \\\n",
       "57696                                 16.0                   7.0   \n",
       "63044                                  4.0                   1.0   \n",
       "7158                                   8.0                   3.0   \n",
       "76894                                 16.0                  10.0   \n",
       "10461                                 12.0                   6.0   \n",
       "\n",
       "      categoria_salario  \n",
       "57696               Low  \n",
       "63044               Low  \n",
       "7158                Mid  \n",
       "76894               Low  \n",
       "10461               Low  "
      ]
     },
     "execution_count": 6,
     "metadata": {},
     "output_type": "execute_result"
    }
   ],
   "source": [
    "df.sample(5)"
   ]
  },
  {
   "cell_type": "markdown",
   "id": "c9b99b22",
   "metadata": {},
   "source": [
    "<h3><b>Seção 1: Descrição dos dados (2,5)</b></h3>\n",
    "\n",
    "<p><b>Materiais de apoio: </b></p> \n",
    "<li>https://pandas.pydata.org/pandas-docs/stable/reference/api/pandas.Series.value_counts.html</li>\n",
    "<li>https://pandas.pydata.org/docs/reference/api/pandas.DataFrame.shape.html</li>\n",
    "<li>https://pandas.pydata.org/docs/reference/api/pandas.DataFrame.corr.html</li>\n",
    "<li>https://pandas.pydata.org/pandas-docs/stable/reference/api/pandas.DataFrame.describe.html</li>\n",
    "<li>https://pandas.pydata.org/pandas-docs/stable/reference/api/pandas.DataFrame.dtypes.html</li>"
   ]
  },
  {
   "cell_type": "markdown",
   "id": "0f358457",
   "metadata": {},
   "source": [
    "<h4><b>Seção 1.1: Mostre o tipo de cada uma das colunas (0,5)</b></h4>\n",
    "\n",
    "<p>É fundamental avaliar a corretude de tipagem das colunas de dados.</p>\n",
    "<p><b>Por exemplo: </b> Avaliar se a coluna de 'pais' é uma string (texto) e a 'idade' é um int (número inteiro). </p>"
   ]
  },
  {
   "cell_type": "code",
   "execution_count": 7,
   "id": "0a1f7e42",
   "metadata": {},
   "outputs": [
    {
     "name": "stdout",
     "output_type": "stream",
     "text": [
      "pais                                    object\n",
      "continente                              object\n",
      "idade                                  float64\n",
      "faixa_idade                             object\n",
      "modalidade_exercicio                    object\n",
      "contrato_trabalho                       object\n",
      "sou_estudante                           object\n",
      "sou_aposentado                          object\n",
      "sou_freelancer                          object\n",
      "buscando_trabalho                       object\n",
      "nivel_educacao                          object\n",
      "intervalo_min_anos_exp_pessoal         float64\n",
      "intervalo_max_anos_exp_pessoal         float64\n",
      "intervalo_min_anos_exp_profissional    float64\n",
      "intervalo_max_anos_exp_profissional    float64\n",
      "anos_atividade_atual                   float64\n",
      "categoria_salario                       object\n",
      "dtype: object\n"
     ]
    }
   ],
   "source": [
    "# =========== TODO ===========\n",
    "print(df.dtypes)"
   ]
  },
  {
   "cell_type": "markdown",
   "id": "da78bab0",
   "metadata": {},
   "source": [
    "<h4><b>Seção 1.2: Mostre a dimensão dos dados (0,5)</b></h4>\n",
    "\n",
    "<p>Mostrar a quantidade de linhas e colunas a base possui.</p>"
   ]
  },
  {
   "cell_type": "code",
   "execution_count": 8,
   "id": "ef7d3e7a",
   "metadata": {},
   "outputs": [
    {
     "name": "stdout",
     "output_type": "stream",
     "text": [
      "Número de linhas: 47916\n",
      "Número de colunas: 17\n"
     ]
    }
   ],
   "source": [
    "# =========== TODO ===========\n",
    "num_linhas, num_colunas = df.shape\n",
    "print(\"Número de linhas:\", num_linhas)\n",
    "print(\"Número de colunas:\", num_colunas)"
   ]
  },
  {
   "cell_type": "markdown",
   "id": "034375f3",
   "metadata": {},
   "source": [
    "<h4><b>Seção 1.3: Análise descritiva das colunas numéricas (0,5)</b></h4>\n",
    "\n",
    "<p>Mostre algumas métricas gerais das colunas como a média, valor mínimo/máximo, contagem... (livre escolha)</p>"
   ]
  },
  {
   "cell_type": "code",
   "execution_count": 9,
   "id": "2ccb029a",
   "metadata": {},
   "outputs": [
    {
     "name": "stdout",
     "output_type": "stream",
     "text": [
      "=========== Para a coluna Idade ===========\n",
      "Média: 37.05804391384204\n",
      "Valor mínimo: 16.0\n",
      "Valor máximo: 79.0\n",
      "Desvio padrão: 10.788733409866403\n"
     ]
    }
   ],
   "source": [
    "# =========== TODO ===========\n",
    "\n",
    "### Calculando sobre a coluna 'Idade' ###\n",
    "\n",
    "coluna = 'idade'\n",
    "\n",
    "# Calculando as estatísticas \n",
    "media = df[coluna].mean()\n",
    "minimo = df[coluna].min()\n",
    "maximo = df[coluna].max()\n",
    "desvio_padrao = df[coluna].std()\n",
    "\n",
    "# Mostrando os resultados\n",
    "print(\"=========== Para a coluna Idade ===========\")\n",
    "print(f\"Média: {media}\")\n",
    "print(f\"Valor mínimo: {minimo}\")\n",
    "print(f\"Valor máximo: {maximo}\")\n",
    "print(f\"Desvio padrão: {desvio_padrao}\")\n"
   ]
  },
  {
   "cell_type": "code",
   "execution_count": 11,
   "id": "6163b231",
   "metadata": {},
   "outputs": [
    {
     "name": "stdout",
     "output_type": "stream",
     "text": [
      "=========== Para categoria salário ===========\n",
      "Moda: Mid\n",
      "Frequência absoluta: categoria_salario\n",
      "Mid          12245\n",
      "Low          11993\n",
      "Very High    11973\n",
      "High         11705\n",
      "Name: count, dtype: int64\n",
      "Frequência relativa: categoria_salario\n",
      "Mid          0.255551\n",
      "Low          0.250292\n",
      "Very High    0.249875\n",
      "High         0.244282\n",
      "Name: proportion, dtype: float64\n"
     ]
    }
   ],
   "source": [
    "### Calculando sobre a coluna 'País' ###\n",
    "\n",
    "coluna = 'categoria_salario'\n",
    "\n",
    "# Calculando a moda, frequência relativa e absoluta\n",
    "moda = df[coluna].mode()[0]\n",
    "frequencia_absoluta = df[coluna].value_counts()\n",
    "frequencia_relativa = df[coluna].value_counts(normalize=True)\n",
    "\n",
    "# Mostrar os resultados\n",
    "print(\"=========== Para categoria salário ===========\")\n",
    "print(f\"Moda: {moda}\")\n",
    "print(f\"Frequência absoluta: {frequencia_absoluta}\")\n",
    "print(f\"Frequência relativa: {frequencia_relativa}\")"
   ]
  },
  {
   "cell_type": "code",
   "execution_count": 15,
   "id": "6d7f017e",
   "metadata": {},
   "outputs": [
    {
     "name": "stdout",
     "output_type": "stream",
     "text": [
      "=========== Para a coluna Modalidade Exercício ===========\n",
      "Contagem de valores agrupados por termos iguais na coluna:\n",
      "modalidade_exercicio\n",
      "Remote       21124\n",
      "Hybrid       20265\n",
      "In-person     6520\n",
      "Name: count, dtype: int64\n"
     ]
    }
   ],
   "source": [
    "### Calculando sobre a coluna 'Modalidade Exercício' ###\n",
    "\n",
    "coluna = 'modalidade_exercicio'\n",
    "\n",
    "# Contanto os valores, agrupando por termos iguais\n",
    "contagem = df[coluna].value_counts()\n",
    "\n",
    "# Mostrar os resultados\n",
    "print(\"=========== Para a coluna Modalidade Exercício ===========\")\n",
    "print(\"Contagem de valores agrupados por termos iguais na coluna:\")\n",
    "print(contagem)"
   ]
  },
  {
   "cell_type": "markdown",
   "id": "17279bb9",
   "metadata": {},
   "source": [
    "<h4><b>Seção 1.4: Quais são os países distintos da base e a sua contagem? (0,5)</b></h4>\n",
    "\n",
    "<p>A equipe precisa avaliar como está a distribuição dos países da base.</p>"
   ]
  },
  {
   "cell_type": "code",
   "execution_count": 16,
   "id": "74527251",
   "metadata": {},
   "outputs": [
    {
     "name": "stdout",
     "output_type": "stream",
     "text": [
      "=========== Para a coluna País ===========\n",
      "Os países estão distribuídos da seguinte forma:\n",
      "pais\n",
      "USA              11840\n",
      "Germany           3966\n",
      "UK                3535\n",
      "Canada            2104\n",
      "India             1865\n",
      "                 ...  \n",
      "Laos                 1\n",
      "Tajikistan           1\n",
      "Guyana               1\n",
      "Liechtenstein        1\n",
      "Sudan                1\n",
      "Name: count, Length: 127, dtype: int64\n"
     ]
    }
   ],
   "source": [
    "# =========== TODO ===========\n",
    "\n",
    "### Calculando sobre a coluna 'País' ###\n",
    "\n",
    "coluna = 'pais'\n",
    "\n",
    "# Contanto os valores, agrupando por termos iguais\n",
    "contagem = df[coluna].value_counts()\n",
    "\n",
    "# Mostrar os resultados\n",
    "print(\"=========== Para a coluna País ===========\")\n",
    "print(\"Os países estão distribuídos da seguinte forma:\")\n",
    "print(contagem)"
   ]
  },
  {
   "cell_type": "markdown",
   "id": "64b9d0a4",
   "metadata": {},
   "source": [
    "<h4><b>Seção 1.5: Qual é a correlação entre a idade e o intervalo mínimo de anos de experiência profissional? (0,5)</b></h4>\n",
    "\n",
    "<p>Colunas para analisar:</p>\n",
    "<li>idade</li>\n",
    "<li>intervalo_min_anos_exp_profissional</li>"
   ]
  },
  {
   "cell_type": "code",
   "execution_count": 10,
   "id": "bd74b9c7",
   "metadata": {},
   "outputs": [
    {
     "name": "stdout",
     "output_type": "stream",
     "text": [
      "Estatísticas de Shapiro-Wilk para idade: 0.955, p-valor: 0.000\n",
      "Estatísticas de Shapiro-Wilk para intervalo_min_anos_exp_profissional: 0.846, p-valor: 0.000\n",
      "A correlação entre idade e o intervalo_min_anos_exp_profissional é: 0.8229832121438871\n"
     ]
    },
    {
     "name": "stderr",
     "output_type": "stream",
     "text": [
      "c:\\Python312\\Lib\\site-packages\\scipy\\stats\\_axis_nan_policy.py:531: UserWarning: scipy.stats.shapiro: For N > 5000, computed p-value may not be accurate. Current N is 47904.\n",
      "  res = hypotest_fun_out(*samples, **kwds)\n"
     ]
    }
   ],
   "source": [
    "# =========== TODO (Código) ===========\n",
    "\n",
    "# Usando o teste de Shapito-Wilk para verificar se os dados seguem uma curva normal, para usar o teste de correlação de Pearson e argumentar sobre\n",
    "\n",
    "# Excluindo NaN de idade e intervalo_min_anos_exp_profissional\n",
    "df_limpo = df.dropna(subset=['idade', 'intervalo_min_anos_exp_profissional']).copy()\n",
    "\n",
    "# Verificando se idade possui distribuição normal\n",
    "stat, p = shapiro(df_limpo['idade'])\n",
    "print('Estatísticas de Shapiro-Wilk para idade: {:.3f}, p-valor: {:.3f}'.format(stat, p))\n",
    "\n",
    "# Verificando se intervalo_min_anos_exp_profissional possui distribuição normal\n",
    "stat, p = shapiro(df_limpo['intervalo_min_anos_exp_profissional'])\n",
    "print('Estatísticas de Shapiro-Wilk para intervalo_min_anos_exp_profissional: {:.3f}, p-valor: {:.3f}'.format(stat, p))\n",
    "\n",
    "# =========== TODO (Preencher a resposta substituindo o 'None') ===========\n",
    "correlacao = df_limpo['idade'].corr(df_limpo['intervalo_min_anos_exp_profissional']) \n",
    "print(f'A correlação entre idade e o intervalo_min_anos_exp_profissional é: {correlacao}')\n",
    "\n",
    "\n",
    "# Foi usada a correlação de Pearson, e como o resultado foi próximo de 1 (além da sua normalidade), há uma correlação significativa, fortemente linear e positiva entre elas\n"
   ]
  },
  {
   "cell_type": "markdown",
   "id": "9a83c955",
   "metadata": {},
   "source": [
    "<h3><b>Seção 2: Visualização dos dados (1,5)</b></h3>\n",
    "\n",
    "<p><i>Observação: \"pyplot\" está importado como \"plt\"</i></p>\n",
    "\n",
    "<p><b>Materiais de apoio: </b></p> \n",
    "<li>https://mode.com/example-gallery/python_histogram</li>\n",
    "<li>https://pandas.pydata.org/pandas-docs/stable/reference/api/pandas.DataFrame.groupby.html</li>\n",
    "<li>https://www.tutorialspoint.com/python-plot-a-pie-chart-for-pandas-dataframe-with-matplotlib</li>\n",
    "<li>https://www.geeksforgeeks.org/ml-label-encoding-of-datasets-in-python/</li>"
   ]
  },
  {
   "cell_type": "code",
   "execution_count": 62,
   "id": "445baee0",
   "metadata": {},
   "outputs": [
    {
     "data": {
      "text/html": [
       "<div>\n",
       "<style scoped>\n",
       "    .dataframe tbody tr th:only-of-type {\n",
       "        vertical-align: middle;\n",
       "    }\n",
       "\n",
       "    .dataframe tbody tr th {\n",
       "        vertical-align: top;\n",
       "    }\n",
       "\n",
       "    .dataframe thead th {\n",
       "        text-align: right;\n",
       "    }\n",
       "</style>\n",
       "<table border=\"1\" class=\"dataframe\">\n",
       "  <thead>\n",
       "    <tr style=\"text-align: right;\">\n",
       "      <th></th>\n",
       "      <th>faixa_idade</th>\n",
       "      <th>contagem</th>\n",
       "    </tr>\n",
       "  </thead>\n",
       "  <tbody>\n",
       "    <tr>\n",
       "      <th>0</th>\n",
       "      <td>Adults</td>\n",
       "      <td>40826</td>\n",
       "    </tr>\n",
       "    <tr>\n",
       "      <th>1</th>\n",
       "      <td>Seniors</td>\n",
       "      <td>2111</td>\n",
       "    </tr>\n",
       "    <tr>\n",
       "      <th>2</th>\n",
       "      <td>Youth</td>\n",
       "      <td>4970</td>\n",
       "    </tr>\n",
       "  </tbody>\n",
       "</table>\n",
       "</div>"
      ],
      "text/plain": [
       "  faixa_idade  contagem\n",
       "0      Adults     40826\n",
       "1     Seniors      2111\n",
       "2       Youth      4970"
      ]
     },
     "execution_count": 62,
     "metadata": {},
     "output_type": "execute_result"
    }
   ],
   "source": [
    "# EXEMPLO DE AGRUPAMENTO DA COLUNA, USANDO FAIXA DE IDADE\n",
    "agrupado = df.groupby(by='faixa_idade').agg(contagem=('faixa_idade', 'count')).reset_index()\n",
    "agrupado"
   ]
  },
  {
   "cell_type": "markdown",
   "id": "e629ffee",
   "metadata": {},
   "source": [
    "<h4><b>Seção 2.1: Crie um gráfico de pizza da distribuição de nível de educação (0,75)</b></h4>\n",
    "\n",
    "<p>A equipe julgou que uma representação visual do gráfico de pizza seria o mais adequado.</p>\n",
    "<p><i>Sinta-se a vontade para personalizar da forma como preferir</i></p>"
   ]
  },
  {
   "cell_type": "code",
   "execution_count": 11,
   "id": "3ccb96e6",
   "metadata": {},
   "outputs": [
    {
     "data": {
      "text/html": [
       "<div>\n",
       "<style scoped>\n",
       "    .dataframe tbody tr th:only-of-type {\n",
       "        vertical-align: middle;\n",
       "    }\n",
       "\n",
       "    .dataframe tbody tr th {\n",
       "        vertical-align: top;\n",
       "    }\n",
       "\n",
       "    .dataframe thead th {\n",
       "        text-align: right;\n",
       "    }\n",
       "</style>\n",
       "<table border=\"1\" class=\"dataframe\">\n",
       "  <thead>\n",
       "    <tr style=\"text-align: right;\">\n",
       "      <th></th>\n",
       "      <th>nivel_educacao</th>\n",
       "      <th>contagem</th>\n",
       "    </tr>\n",
       "  </thead>\n",
       "  <tbody>\n",
       "    <tr>\n",
       "      <th>0</th>\n",
       "      <td>Associate</td>\n",
       "      <td>1593</td>\n",
       "    </tr>\n",
       "    <tr>\n",
       "      <th>1</th>\n",
       "      <td>Bachelor</td>\n",
       "      <td>22500</td>\n",
       "    </tr>\n",
       "    <tr>\n",
       "      <th>2</th>\n",
       "      <td>High School</td>\n",
       "      <td>2165</td>\n",
       "    </tr>\n",
       "    <tr>\n",
       "      <th>3</th>\n",
       "      <td>Masters</td>\n",
       "      <td>13015</td>\n",
       "    </tr>\n",
       "    <tr>\n",
       "      <th>4</th>\n",
       "      <td>Professional</td>\n",
       "      <td>2289</td>\n",
       "    </tr>\n",
       "    <tr>\n",
       "      <th>5</th>\n",
       "      <td>School</td>\n",
       "      <td>221</td>\n",
       "    </tr>\n",
       "    <tr>\n",
       "      <th>6</th>\n",
       "      <td>Self-Study</td>\n",
       "      <td>5637</td>\n",
       "    </tr>\n",
       "    <tr>\n",
       "      <th>7</th>\n",
       "      <td>Something else</td>\n",
       "      <td>490</td>\n",
       "    </tr>\n",
       "  </tbody>\n",
       "</table>\n",
       "</div>"
      ],
      "text/plain": [
       "   nivel_educacao  contagem\n",
       "0       Associate      1593\n",
       "1        Bachelor     22500\n",
       "2     High School      2165\n",
       "3         Masters     13015\n",
       "4    Professional      2289\n",
       "5          School       221\n",
       "6      Self-Study      5637\n",
       "7  Something else       490"
      ]
     },
     "execution_count": 11,
     "metadata": {},
     "output_type": "execute_result"
    }
   ],
   "source": [
    "# =========== TODO (Agrupamento) ===========\n",
    "\n",
    "# EXEMPLO DE AGRUPAMENTO DA COLUNA, USANDO FAIXA DE IDADE\n",
    "agrupado = df.groupby(by='nivel_educacao').agg(contagem=('nivel_educacao', 'count')).reset_index()\n",
    "agrupado"
   ]
  },
  {
   "cell_type": "code",
   "execution_count": 19,
   "id": "3d03427a",
   "metadata": {},
   "outputs": [
    {
     "data": {
      "image/png": "[encoded data removed]",
      "text/plain": [
       "<Figure size 800x800 with 1 Axes>"
      ]
     },
     "metadata": {},
     "output_type": "display_data"
    }
   ],
   "source": [
    "# =========== TODO (Gráfico) ===========\n",
    "\n",
    "# Dados agrupados\n",
    "nivel_educacao = agrupado['nivel_educacao']\n",
    "contagem = agrupado['contagem']\n",
    "\n",
    "# Criando o gráfico de pizza\n",
    "plt.figure(figsize=(8, 8))\n",
    "\n",
    "# Formatado como um número de ponto flutuante com uma casa decimal\n",
    "plt.pie(contagem, labels=nivel_educacao, autopct='%1.1f%%', startangle=140, pctdistance=0.85)\n",
    "plt.title('Distribuição do Nível de Educação')\n",
    "plt.axis('equal')  # Deixa o gráfico de pizza circular\n",
    "\n",
    "# Ajustes\n",
    "plt.subplots_adjust(top=1)\n",
    "\n",
    "plt.show()"
   ]
  },
  {
   "cell_type": "markdown",
   "id": "1815a9ce",
   "metadata": {},
   "source": [
    "<h4><b>Seção 2.2: Crie um histograma de idade (0,75)</b></h4>\n",
    "\n",
    "<p>A equipe necessita de um histograma para analisar como a idade está distribuída. Se possível, divida em 13 bins.</p>\n",
    "<p><i>Sinta-se a vontade para personalizar da forma como preferir</i></p>"
   ]
  },
  {
   "cell_type": "code",
   "execution_count": 24,
   "id": "df56a831",
   "metadata": {},
   "outputs": [
    {
     "data": {
      "image/png": "[encoded data removed]",
      "text/plain": [
       "<Figure size 1000x600 with 1 Axes>"
      ]
     },
     "metadata": {},
     "output_type": "display_data"
    }
   ],
   "source": [
    "# =========== TODO (Gráfico) ===========\n",
    "\n",
    "# Criando o histograma\n",
    "plt.figure(figsize=(10, 6))\n",
    "plt.hist(df['idade'], bins=13, edgecolor='black')  # Definindo 13 bins\n",
    "plt.title('Distribuição da Idade')\n",
    "plt.xlabel('Idade')\n",
    "plt.ylabel('Frequência')\n",
    "\n",
    "plt.show()"
   ]
  },
  {
   "cell_type": "markdown",
   "id": "1215e769",
   "metadata": {},
   "source": [
    "<h3><b>Seção 3: Processamento e transformação dos dados (2,5)</b></h3>\n",
    "\n",
    "<p><i>Observação: Normalmente os dados nulos são representados como NaN</i></p>\n",
    "\n",
    "<p><b>Materiais de apoio: </b></p> \n",
    "<li>https://pandas.pydata.org/docs/dev/reference/api/pandas.DataFrame.isna.html</li>\n",
    "<li>https://saturncloud.io/blog/how-to-count-nan-values-in-a-pandas-dataframe-column/</li>\n",
    "<li>https://pandas.pydata.org/pandas-docs/stable/reference/api/pandas.DataFrame.dropna.html</li>\n",
    "<li>https://www.datacamp.com/tutorial/python-select-columns</li>\n",
    "<li>https://medium.com/codex/how-to-set-x-and-y-in-pandas-3f38584e9bed (abra na aba anônima)</li>\n",
    "<li>https://www.alura.com.br/artigos/get-dummies-vs-onehotencoder-qual-metodo-escolher</li>\n",
    "<li>https://www.c-sharpcorner.com/article/a-beginners-guide-to-one-hot-encoding-using-pandas-getdummies-method/</li>"
   ]
  },
  {
   "cell_type": "markdown",
   "id": "1bec37f0",
   "metadata": {},
   "source": [
    "<h4><b>Seção 3.1: Avalie integridade das colunas (0,5)</b></h4>\n",
    "\n",
    "<p>Sempre há a necessidade de avaliar se a base de dados não possui dados nulos/vazios.</p>"
   ]
  },
  {
   "cell_type": "code",
   "execution_count": 30,
   "id": "4c30c876",
   "metadata": {},
   "outputs": [
    {
     "name": "stdout",
     "output_type": "stream",
     "text": [
      "Valores nulos em cada coluna:\n",
      " pais                                   0\n",
      "continente                             4\n",
      "idade                                  4\n",
      "faixa_idade                            9\n",
      "modalidade_exercicio                   7\n",
      "contrato_trabalho                      9\n",
      "sou_estudante                          7\n",
      "sou_aposentado                         7\n",
      "sou_freelancer                         6\n",
      "buscando_trabalho                      6\n",
      "nivel_educacao                         6\n",
      "intervalo_min_anos_exp_pessoal         7\n",
      "intervalo_max_anos_exp_pessoal         7\n",
      "intervalo_min_anos_exp_profissional    8\n",
      "intervalo_max_anos_exp_profissional    5\n",
      "anos_atividade_atual                   8\n",
      "categoria_salario                      0\n",
      "dtype: int64\n",
      "Total de valores nulos no DataFrame: 100\n"
     ]
    }
   ],
   "source": [
    "# Verificar valores nulos em todas as colunas do DataFrame\n",
    "valores_nulos_por_coluna = df.isnull().sum()\n",
    "print(\"Valores nulos em cada coluna:\\n\", valores_nulos_por_coluna)\n",
    "\n",
    "# Total de valores nulos no DataFrame\n",
    "total_valores_nulos = df.isnull().sum().sum()\n",
    "print(\"Total de valores nulos no DataFrame:\", total_valores_nulos)"
   ]
  },
  {
   "cell_type": "markdown",
   "id": "5b2b036e",
   "metadata": {},
   "source": [
    "<h4><b>Seção 3.2: Drop (não considerar) das linhas onde contém células nulas (0,5)</b></h4>\n",
    "\n",
    "<p>A equipe decidiu que não deveríamos treinar o modelo com linhas onde há dado(s) inválido(s).</p>\n",
    "<p><i>Dica: Você pode executar a célula anterior para avaliar se o código está correto.</i></p>"
   ]
  },
  {
   "cell_type": "code",
   "execution_count": 34,
   "id": "f5046744",
   "metadata": {},
   "outputs": [
    {
     "name": "stdout",
     "output_type": "stream",
     "text": [
      "Novo número de linhas no DataFrame: 47817\n",
      "Valores nulos em cada coluna:\n",
      " pais                                   0\n",
      "continente                             0\n",
      "idade                                  0\n",
      "faixa_idade                            0\n",
      "modalidade_exercicio                   0\n",
      "contrato_trabalho                      0\n",
      "sou_estudante                          0\n",
      "sou_aposentado                         0\n",
      "sou_freelancer                         0\n",
      "buscando_trabalho                      0\n",
      "nivel_educacao                         0\n",
      "intervalo_min_anos_exp_pessoal         0\n",
      "intervalo_max_anos_exp_pessoal         0\n",
      "intervalo_min_anos_exp_profissional    0\n",
      "intervalo_max_anos_exp_profissional    0\n",
      "anos_atividade_atual                   0\n",
      "categoria_salario                      0\n",
      "dtype: int64\n",
      "Total de valores nulos no DataFrame: 0\n"
     ]
    }
   ],
   "source": [
    "# =========== TODO ===========\n",
    "\n",
    "# Remover todas as linhas com pelo menos um NaN em qualquer coluna\n",
    "df = df.dropna().copy()\n",
    "\n",
    "# Verificar o novo tamanho do DataFrame para confirmar a remoção\n",
    "print(\"Novo número de linhas no DataFrame:\", df.shape[0])\n",
    "\n",
    "# Verificando se os NaN foram excluidos, mesmo código da célula anterior\n",
    "valores_nulos_por_coluna = df.isnull().sum()\n",
    "print(\"Valores nulos em cada coluna:\\n\", valores_nulos_por_coluna)\n",
    "\n",
    "total_valores_nulos = df.isnull().sum().sum()\n",
    "print(\"Total de valores nulos no DataFrame:\", total_valores_nulos)"
   ]
  },
  {
   "cell_type": "markdown",
   "id": "98d1555d",
   "metadata": {},
   "source": [
    "<h4><b>Seção 3.3: Faça uma separação das características e a variável que desejamos prever (0,5)</b></h4>\n",
    "\n",
    "<p>A equipe precisa que você quebre os dados em 'X' e 'y'.</p>\n",
    "<p>Armazene como 'y' a coluna que desejamos prever (categoria_salario) e como 'X' as demais colunas.</p>"
   ]
  },
  {
   "cell_type": "code",
   "execution_count": 44,
   "id": "0ee92a92",
   "metadata": {},
   "outputs": [
    {
     "name": "stdout",
     "output_type": "stream",
     "text": [
      "Primeiras linhas de X:\n"
     ]
    },
    {
     "data": {
      "text/html": [
       "<div>\n",
       "<style scoped>\n",
       "    .dataframe tbody tr th:only-of-type {\n",
       "        vertical-align: middle;\n",
       "    }\n",
       "\n",
       "    .dataframe tbody tr th {\n",
       "        vertical-align: top;\n",
       "    }\n",
       "\n",
       "    .dataframe thead th {\n",
       "        text-align: right;\n",
       "    }\n",
       "</style>\n",
       "<table border=\"1\" class=\"dataframe\">\n",
       "  <thead>\n",
       "    <tr style=\"text-align: right;\">\n",
       "      <th></th>\n",
       "      <th>pais</th>\n",
       "      <th>continente</th>\n",
       "      <th>idade</th>\n",
       "      <th>faixa_idade</th>\n",
       "      <th>modalidade_exercicio</th>\n",
       "      <th>contrato_trabalho</th>\n",
       "      <th>sou_estudante</th>\n",
       "      <th>sou_aposentado</th>\n",
       "      <th>sou_freelancer</th>\n",
       "      <th>buscando_trabalho</th>\n",
       "      <th>nivel_educacao</th>\n",
       "      <th>intervalo_min_anos_exp_pessoal</th>\n",
       "      <th>intervalo_max_anos_exp_pessoal</th>\n",
       "      <th>intervalo_min_anos_exp_profissional</th>\n",
       "      <th>intervalo_max_anos_exp_profissional</th>\n",
       "      <th>anos_atividade_atual</th>\n",
       "    </tr>\n",
       "  </thead>\n",
       "  <tbody>\n",
       "    <tr>\n",
       "      <th>69343</th>\n",
       "      <td>USA</td>\n",
       "      <td>North America</td>\n",
       "      <td>32.0</td>\n",
       "      <td>Adults</td>\n",
       "      <td>Hybrid</td>\n",
       "      <td>Full-time</td>\n",
       "      <td>Nao</td>\n",
       "      <td>Nao</td>\n",
       "      <td>Nao</td>\n",
       "      <td>Nao</td>\n",
       "      <td>Self-Study</td>\n",
       "      <td>9.0</td>\n",
       "      <td>12.0</td>\n",
       "      <td>9.0</td>\n",
       "      <td>12.0</td>\n",
       "      <td>5.0</td>\n",
       "    </tr>\n",
       "    <tr>\n",
       "      <th>34736</th>\n",
       "      <td>USA</td>\n",
       "      <td>North America</td>\n",
       "      <td>21.0</td>\n",
       "      <td>Adults</td>\n",
       "      <td>Remote</td>\n",
       "      <td>Full-time</td>\n",
       "      <td>Nao</td>\n",
       "      <td>Nao</td>\n",
       "      <td>Nao</td>\n",
       "      <td>Nao</td>\n",
       "      <td>Bachelor</td>\n",
       "      <td>1.0</td>\n",
       "      <td>4.0</td>\n",
       "      <td>1.0</td>\n",
       "      <td>4.0</td>\n",
       "      <td>1.0</td>\n",
       "    </tr>\n",
       "    <tr>\n",
       "      <th>54355</th>\n",
       "      <td>Russia</td>\n",
       "      <td>Asia</td>\n",
       "      <td>36.0</td>\n",
       "      <td>Adults</td>\n",
       "      <td>Remote</td>\n",
       "      <td>Unemployed</td>\n",
       "      <td>Nao</td>\n",
       "      <td>Nao</td>\n",
       "      <td>Nao</td>\n",
       "      <td>Nao</td>\n",
       "      <td>Bachelor</td>\n",
       "      <td>9.0</td>\n",
       "      <td>12.0</td>\n",
       "      <td>5.0</td>\n",
       "      <td>8.0</td>\n",
       "      <td>5.0</td>\n",
       "    </tr>\n",
       "    <tr>\n",
       "      <th>69560</th>\n",
       "      <td>Mexico</td>\n",
       "      <td>North America</td>\n",
       "      <td>29.0</td>\n",
       "      <td>Adults</td>\n",
       "      <td>Remote</td>\n",
       "      <td>Unemployed</td>\n",
       "      <td>Nao</td>\n",
       "      <td>Nao</td>\n",
       "      <td>Nao</td>\n",
       "      <td>Nao</td>\n",
       "      <td>Masters</td>\n",
       "      <td>13.0</td>\n",
       "      <td>16.0</td>\n",
       "      <td>5.0</td>\n",
       "      <td>8.0</td>\n",
       "      <td>1.0</td>\n",
       "    </tr>\n",
       "    <tr>\n",
       "      <th>71004</th>\n",
       "      <td>Australia</td>\n",
       "      <td>Oceania</td>\n",
       "      <td>41.0</td>\n",
       "      <td>Adults</td>\n",
       "      <td>In-person</td>\n",
       "      <td>Full-time</td>\n",
       "      <td>Nao</td>\n",
       "      <td>Nao</td>\n",
       "      <td>Nao</td>\n",
       "      <td>Nao</td>\n",
       "      <td>Bachelor</td>\n",
       "      <td>13.0</td>\n",
       "      <td>16.0</td>\n",
       "      <td>9.0</td>\n",
       "      <td>12.0</td>\n",
       "      <td>7.0</td>\n",
       "    </tr>\n",
       "  </tbody>\n",
       "</table>\n",
       "</div>"
      ],
      "text/plain": [
       "            pais     continente  idade faixa_idade modalidade_exercicio  \\\n",
       "69343        USA  North America   32.0      Adults               Hybrid   \n",
       "34736        USA  North America   21.0      Adults               Remote   \n",
       "54355     Russia           Asia   36.0      Adults               Remote   \n",
       "69560     Mexico  North America   29.0      Adults               Remote   \n",
       "71004  Australia        Oceania   41.0      Adults            In-person   \n",
       "\n",
       "      contrato_trabalho sou_estudante sou_aposentado sou_freelancer  \\\n",
       "69343         Full-time           Nao            Nao            Nao   \n",
       "34736         Full-time           Nao            Nao            Nao   \n",
       "54355        Unemployed           Nao            Nao            Nao   \n",
       "69560        Unemployed           Nao            Nao            Nao   \n",
       "71004         Full-time           Nao            Nao            Nao   \n",
       "\n",
       "      buscando_trabalho nivel_educacao  intervalo_min_anos_exp_pessoal  \\\n",
       "69343               Nao     Self-Study                             9.0   \n",
       "34736               Nao       Bachelor                             1.0   \n",
       "54355               Nao       Bachelor                             9.0   \n",
       "69560               Nao        Masters                            13.0   \n",
       "71004               Nao       Bachelor                            13.0   \n",
       "\n",
       "       intervalo_max_anos_exp_pessoal  intervalo_min_anos_exp_profissional  \\\n",
       "69343                            12.0                                  9.0   \n",
       "34736                             4.0                                  1.0   \n",
       "54355                            12.0                                  5.0   \n",
       "69560                            16.0                                  5.0   \n",
       "71004                            16.0                                  9.0   \n",
       "\n",
       "       intervalo_max_anos_exp_profissional  anos_atividade_atual  \n",
       "69343                                 12.0                   5.0  \n",
       "34736                                  4.0                   1.0  \n",
       "54355                                  8.0                   5.0  \n",
       "69560                                  8.0                   1.0  \n",
       "71004                                 12.0                   7.0  "
      ]
     },
     "execution_count": 44,
     "metadata": {},
     "output_type": "execute_result"
    }
   ],
   "source": [
    "# =========== TODO ===========\n",
    "\n",
    "# X será o DataFrame contendo todas as colunas exceto 'categoria_salario'\n",
    "X = df.drop('categoria_salario', axis=1)\n",
    "\n",
    "# y será a Series contendo a coluna 'categoria_salario'\n",
    "y = df['categoria_salario']\n",
    "\n",
    "# Verificando 5 linhas de X para garantir que categoria_salario foi excluida\n",
    "print(\"Primeiras linhas de X:\")\n",
    "X.sample(5)"
   ]
  },
  {
   "cell_type": "code",
   "execution_count": 45,
   "id": "edc5b12c",
   "metadata": {},
   "outputs": [
    {
     "name": "stdout",
     "output_type": "stream",
     "text": [
      "\n",
      "Primeiras linhas de y:\n"
     ]
    },
    {
     "data": {
      "text/plain": [
       "13081    Mid\n",
       "544      Mid\n",
       "16039    Mid\n",
       "33121    Mid\n",
       "77233    Low\n",
       "Name: categoria_salario, dtype: object"
      ]
     },
     "execution_count": 45,
     "metadata": {},
     "output_type": "execute_result"
    }
   ],
   "source": [
    "# Verificando 5 linhas de y para garantir que a separação foi feita corretamente\n",
    "print(\"\\nPrimeiras linhas de y:\")\n",
    "y.sample(5)"
   ]
  },
  {
   "cell_type": "markdown",
   "id": "fe82d274",
   "metadata": {},
   "source": [
    "<h4><b>Seção 3.4: Aplique um label encoding da variável ('y') que desejamos prever (0,5)</b></h4>\n",
    "\n",
    "<p>Transforme a coluna categórica em numérica, representando as diferentes classes (categorias de salário)</p>\n",
    "<p><b>Exemplo:</b> 'Low' como 0, 'Mid' como 1...</p>"
   ]
  },
  {
   "cell_type": "code",
   "execution_count": 46,
   "id": "0edaff2f",
   "metadata": {},
   "outputs": [
    {
     "name": "stdout",
     "output_type": "stream",
     "text": [
      "Primeiras linhas de y após label encoding:\n",
      "1    3\n",
      "2    3\n",
      "3    3\n",
      "4    0\n",
      "5    2\n",
      "Name: categoria_salario, dtype: int64\n"
     ]
    }
   ],
   "source": [
    "# =========== TODO ===========\n",
    "\n",
    "mapeamento_salario = {\n",
    "    'Low': 0,\n",
    "    'Mid': 1,\n",
    "    'High': 2,\n",
    "    'Very High': 3\n",
    "}\n",
    "\n",
    "# Aplicando o mapeamento para transformar as categorias em números\n",
    "y = y.map(mapeamento_salario).copy()\n",
    "\n",
    "# Verificando as primeiras linhas para garantir que a transformação foi aplicada corretamente\n",
    "print(\"Primeiras linhas de y após label encoding:\")\n",
    "print(y.head())"
   ]
  },
  {
   "cell_type": "markdown",
   "id": "9d24c428",
   "metadata": {},
   "source": [
    "<h4><b>Seção 3.5: Aplique um one-hot-encoding das características ('X') categóricas (0,5)</b></h4>\n",
    "\n",
    "<p>Transforme as colunas categóricas em numérica por meio de one-hot-encoding.</p>"
   ]
  },
  {
   "cell_type": "code",
   "execution_count": 47,
   "id": "68f9ea9e",
   "metadata": {},
   "outputs": [
    {
     "name": "stdout",
     "output_type": "stream",
     "text": [
      "Pegando 5 linhas aleatórias do dataframe X atualizado:\n"
     ]
    },
    {
     "data": {
      "text/html": [
       "<div>\n",
       "<style scoped>\n",
       "    .dataframe tbody tr th:only-of-type {\n",
       "        vertical-align: middle;\n",
       "    }\n",
       "\n",
       "    .dataframe tbody tr th {\n",
       "        vertical-align: top;\n",
       "    }\n",
       "\n",
       "    .dataframe thead th {\n",
       "        text-align: right;\n",
       "    }\n",
       "</style>\n",
       "<table border=\"1\" class=\"dataframe\">\n",
       "  <thead>\n",
       "    <tr style=\"text-align: right;\">\n",
       "      <th></th>\n",
       "      <th>idade</th>\n",
       "      <th>intervalo_min_anos_exp_pessoal</th>\n",
       "      <th>intervalo_max_anos_exp_pessoal</th>\n",
       "      <th>intervalo_min_anos_exp_profissional</th>\n",
       "      <th>intervalo_max_anos_exp_profissional</th>\n",
       "      <th>anos_atividade_atual</th>\n",
       "      <th>pais_Afghanistan</th>\n",
       "      <th>pais_Africa</th>\n",
       "      <th>pais_Albania</th>\n",
       "      <th>pais_Andorra</th>\n",
       "      <th>...</th>\n",
       "      <th>sou_freelancer_Sim</th>\n",
       "      <th>buscando_trabalho_Nao</th>\n",
       "      <th>nivel_educacao_Associate</th>\n",
       "      <th>nivel_educacao_Bachelor</th>\n",
       "      <th>nivel_educacao_High School</th>\n",
       "      <th>nivel_educacao_Masters</th>\n",
       "      <th>nivel_educacao_Professional</th>\n",
       "      <th>nivel_educacao_School</th>\n",
       "      <th>nivel_educacao_Self-Study</th>\n",
       "      <th>nivel_educacao_Something else</th>\n",
       "    </tr>\n",
       "  </thead>\n",
       "  <tbody>\n",
       "    <tr>\n",
       "      <th>66417</th>\n",
       "      <td>39.0</td>\n",
       "      <td>9.0</td>\n",
       "      <td>12.0</td>\n",
       "      <td>1.0</td>\n",
       "      <td>4.0</td>\n",
       "      <td>1.0</td>\n",
       "      <td>0</td>\n",
       "      <td>0</td>\n",
       "      <td>0</td>\n",
       "      <td>0</td>\n",
       "      <td>...</td>\n",
       "      <td>0</td>\n",
       "      <td>1</td>\n",
       "      <td>0</td>\n",
       "      <td>1</td>\n",
       "      <td>0</td>\n",
       "      <td>0</td>\n",
       "      <td>0</td>\n",
       "      <td>0</td>\n",
       "      <td>0</td>\n",
       "      <td>0</td>\n",
       "    </tr>\n",
       "    <tr>\n",
       "      <th>52774</th>\n",
       "      <td>66.0</td>\n",
       "      <td>41.0</td>\n",
       "      <td>44.0</td>\n",
       "      <td>25.0</td>\n",
       "      <td>28.0</td>\n",
       "      <td>1.0</td>\n",
       "      <td>0</td>\n",
       "      <td>0</td>\n",
       "      <td>0</td>\n",
       "      <td>0</td>\n",
       "      <td>...</td>\n",
       "      <td>0</td>\n",
       "      <td>1</td>\n",
       "      <td>0</td>\n",
       "      <td>0</td>\n",
       "      <td>0</td>\n",
       "      <td>1</td>\n",
       "      <td>0</td>\n",
       "      <td>0</td>\n",
       "      <td>0</td>\n",
       "      <td>0</td>\n",
       "    </tr>\n",
       "    <tr>\n",
       "      <th>53006</th>\n",
       "      <td>43.0</td>\n",
       "      <td>13.0</td>\n",
       "      <td>16.0</td>\n",
       "      <td>5.0</td>\n",
       "      <td>8.0</td>\n",
       "      <td>4.0</td>\n",
       "      <td>0</td>\n",
       "      <td>0</td>\n",
       "      <td>0</td>\n",
       "      <td>0</td>\n",
       "      <td>...</td>\n",
       "      <td>0</td>\n",
       "      <td>1</td>\n",
       "      <td>0</td>\n",
       "      <td>1</td>\n",
       "      <td>0</td>\n",
       "      <td>0</td>\n",
       "      <td>0</td>\n",
       "      <td>0</td>\n",
       "      <td>0</td>\n",
       "      <td>0</td>\n",
       "    </tr>\n",
       "    <tr>\n",
       "      <th>40429</th>\n",
       "      <td>54.0</td>\n",
       "      <td>33.0</td>\n",
       "      <td>36.0</td>\n",
       "      <td>29.0</td>\n",
       "      <td>32.0</td>\n",
       "      <td>2.0</td>\n",
       "      <td>0</td>\n",
       "      <td>0</td>\n",
       "      <td>0</td>\n",
       "      <td>0</td>\n",
       "      <td>...</td>\n",
       "      <td>0</td>\n",
       "      <td>1</td>\n",
       "      <td>0</td>\n",
       "      <td>1</td>\n",
       "      <td>0</td>\n",
       "      <td>0</td>\n",
       "      <td>0</td>\n",
       "      <td>0</td>\n",
       "      <td>0</td>\n",
       "      <td>0</td>\n",
       "    </tr>\n",
       "    <tr>\n",
       "      <th>31423</th>\n",
       "      <td>41.0</td>\n",
       "      <td>13.0</td>\n",
       "      <td>16.0</td>\n",
       "      <td>9.0</td>\n",
       "      <td>12.0</td>\n",
       "      <td>8.0</td>\n",
       "      <td>0</td>\n",
       "      <td>0</td>\n",
       "      <td>0</td>\n",
       "      <td>0</td>\n",
       "      <td>...</td>\n",
       "      <td>0</td>\n",
       "      <td>1</td>\n",
       "      <td>0</td>\n",
       "      <td>1</td>\n",
       "      <td>0</td>\n",
       "      <td>0</td>\n",
       "      <td>0</td>\n",
       "      <td>0</td>\n",
       "      <td>0</td>\n",
       "      <td>0</td>\n",
       "    </tr>\n",
       "  </tbody>\n",
       "</table>\n",
       "<p>5 rows × 164 columns</p>\n",
       "</div>"
      ],
      "text/plain": [
       "       idade  intervalo_min_anos_exp_pessoal  intervalo_max_anos_exp_pessoal  \\\n",
       "66417   39.0                             9.0                            12.0   \n",
       "52774   66.0                            41.0                            44.0   \n",
       "53006   43.0                            13.0                            16.0   \n",
       "40429   54.0                            33.0                            36.0   \n",
       "31423   41.0                            13.0                            16.0   \n",
       "\n",
       "       intervalo_min_anos_exp_profissional  \\\n",
       "66417                                  1.0   \n",
       "52774                                 25.0   \n",
       "53006                                  5.0   \n",
       "40429                                 29.0   \n",
       "31423                                  9.0   \n",
       "\n",
       "       intervalo_max_anos_exp_profissional  anos_atividade_atual  \\\n",
       "66417                                  4.0                   1.0   \n",
       "52774                                 28.0                   1.0   \n",
       "53006                                  8.0                   4.0   \n",
       "40429                                 32.0                   2.0   \n",
       "31423                                 12.0                   8.0   \n",
       "\n",
       "       pais_Afghanistan  pais_Africa  pais_Albania  pais_Andorra  ...  \\\n",
       "66417                 0            0             0             0  ...   \n",
       "52774                 0            0             0             0  ...   \n",
       "53006                 0            0             0             0  ...   \n",
       "40429                 0            0             0             0  ...   \n",
       "31423                 0            0             0             0  ...   \n",
       "\n",
       "       sou_freelancer_Sim  buscando_trabalho_Nao  nivel_educacao_Associate  \\\n",
       "66417                   0                      1                         0   \n",
       "52774                   0                      1                         0   \n",
       "53006                   0                      1                         0   \n",
       "40429                   0                      1                         0   \n",
       "31423                   0                      1                         0   \n",
       "\n",
       "       nivel_educacao_Bachelor  nivel_educacao_High School  \\\n",
       "66417                        1                           0   \n",
       "52774                        0                           0   \n",
       "53006                        1                           0   \n",
       "40429                        1                           0   \n",
       "31423                        1                           0   \n",
       "\n",
       "       nivel_educacao_Masters  nivel_educacao_Professional  \\\n",
       "66417                       0                            0   \n",
       "52774                       1                            0   \n",
       "53006                       0                            0   \n",
       "40429                       0                            0   \n",
       "31423                       0                            0   \n",
       "\n",
       "       nivel_educacao_School  nivel_educacao_Self-Study  \\\n",
       "66417                      0                          0   \n",
       "52774                      0                          0   \n",
       "53006                      0                          0   \n",
       "40429                      0                          0   \n",
       "31423                      0                          0   \n",
       "\n",
       "       nivel_educacao_Something else  \n",
       "66417                              0  \n",
       "52774                              0  \n",
       "53006                              0  \n",
       "40429                              0  \n",
       "31423                              0  \n",
       "\n",
       "[5 rows x 164 columns]"
      ]
     },
     "execution_count": 47,
     "metadata": {},
     "output_type": "execute_result"
    }
   ],
   "source": [
    "# =========== TODO ===========\n",
    "\n",
    "# Aplicando one-hot-encoding às características categóricas em X\n",
    "X = pd.get_dummies(X, dtype=int).copy()\n",
    "\n",
    "# Verificando as primeiras linhas de X para garantir que a transformação foi aplicada corretamente\n",
    "print(\"Pegando 5 linhas aleatórias do dataframe X atualizado:\")\n",
    "X.sample(5)"
   ]
  },
  {
   "cell_type": "markdown",
   "id": "3e4102a1",
   "metadata": {},
   "source": [
    "<h3><b>Seção 4: Preparação dos dados e treinamento de um modelo classificador (2,0)</b></h3>\n",
    "\n",
    "<p><b>Materiais de apoio: </b></p> \n",
    "<li>https://scikit-learn.org/stable/modules/generated/sklearn.model_selection.train_test_split.html</li>\n",
    "<li>https://scikit-learn.org/stable/modules/generated/sklearn.ensemble.RandomForestClassifier.html</li>\n",
    "<li>https://scikit-learn.org/stable/modules/generated/sklearn.tree.DecisionTreeClassifier.html</li>\n",
    "<li>https://machinelearningmastery.com/train-test-split-for-evaluating-machine-learning-algorithms/</li>"
   ]
  },
  {
   "cell_type": "code",
   "execution_count": 71,
   "id": "6f7975ce",
   "metadata": {},
   "outputs": [],
   "source": [
    "# # EXECUTE ESSA CÉLULA CASO NÃO TENHA CONCLUÍDO A SEÇÃO 3, PARA OBTER O 'X' E 'y'\n",
    "# X = pd.read_parquet('dataset/final_case_X.parquet')\n",
    "# y = pd.read_parquet('dataset/final_case_y.parquet').categoria_salario"
   ]
  },
  {
   "cell_type": "markdown",
   "id": "415bfb79",
   "metadata": {},
   "source": [
    "<h4><b>Seção 4.1: Faça a divisão dos dados de treinamento e teste (0,75)</b></h4>\n",
    "\n",
    "<p>Queremos testar como o modelo performa com os dados desconhecidos, portanto vamos separar uma parte dos dados para o teste!</p>\n",
    "<p>Depois de uma reunião, nós decidimos optar em dividir os dados para <b>80% de treinamento e 20% de teste.</b></p>"
   ]
  },
  {
   "cell_type": "code",
   "execution_count": 72,
   "id": "de919242",
   "metadata": {},
   "outputs": [],
   "source": [
    "# =========== TODO ===========\n",
    "\n"
   ]
  },
  {
   "cell_type": "markdown",
   "id": "416b42e9",
   "metadata": {},
   "source": [
    "<h4><b>Seção 4.2: Construa um classificador com os dados de treinamento (0,75)</b></h4>\n",
    "\n",
    "<p>A equipe precisa de um modelo para utilizar como um baseline, mesmo que seja com os parâmetros padrões. Para isso, crie uma instância de modelo e faça inicie um treinamento com os dados de treino.</p>\n",
    "<p><i>Fique à vontade para escolher o modelo que preferir, nós importamos o <b>RandomForestClassifier</b> e <b>DecisionTreeClassifier</b> como exemplos de uso.</i></p>"
   ]
  },
  {
   "cell_type": "code",
   "execution_count": 73,
   "id": "7365ca06",
   "metadata": {},
   "outputs": [],
   "source": [
    "# =========== TODO ===========\n",
    "\n"
   ]
  },
  {
   "cell_type": "markdown",
   "id": "55a303b2",
   "metadata": {},
   "source": [
    "<h4><b>Seção 4.3: Teste o modelo com os dados de teste (0,5)</b></h4>\n",
    "\n",
    "<p>Utilize os dados de teste que foram separados na seção 4.1, nós precisamos avaliar com os dados que não foram utilizados na seção 4.2!</p>\n",
    "<p>Armazene o retorno do modelo em uma variável.</p>"
   ]
  },
  {
   "cell_type": "code",
   "execution_count": 74,
   "id": "2f98c309",
   "metadata": {},
   "outputs": [],
   "source": [
    "# =========== TODO ===========\n",
    "\n"
   ]
  },
  {
   "cell_type": "markdown",
   "id": "ab06bc6e",
   "metadata": {},
   "source": [
    "<h4><b>Seção 4.1, 4.2 e 4.3: Faço o splitting dos dados, treine e teste um classificador (2,0)</b></h4>\n",
    "\n",
    "<p><b>Não precisa realizar esse TODO caso tenha feito as seções 4.1, 4.2 e 4.3 (OPCIONAL). Será considerado apenas a pontuação de uma delas.</b></p>\n",
    "<p>O time decidiu que você poderia desenvolver um modelo mais robusto, caso queira demonstrar suas habilidades!</p>\n",
    "<p>Sinta-se à vontade para treinar outros classificadores, aplicar técnicas de validações cruzadas, realizar o tuning de hiperparâmetros e entre outros!</p> "
   ]
  },
  {
   "cell_type": "code",
   "execution_count": 75,
   "id": "99fe3b60",
   "metadata": {},
   "outputs": [],
   "source": [
    "# =========== TODO ===========\n",
    "\n"
   ]
  },
  {
   "cell_type": "markdown",
   "id": "fb56ff7b",
   "metadata": {},
   "source": [
    "<h3><b>Seção 5: Avaliação do modelo (1,5)</b></h3>\n",
    "\n",
    "<p><b>Materiais de apoio: </b></p> \n",
    "<li>https://scikit-learn.org/stable/modules/generated/sklearn.metrics.confusion_matrix.html</li>\n",
    "<li>https://scikit-learn.org/stable/modules/generated/sklearn.metrics.classification_report.html</li>\n",
    "<li>https://scikit-learn.org/stable/modules/model_evaluation.html</li>"
   ]
  },
  {
   "cell_type": "code",
   "execution_count": 76,
   "id": "56e71e38",
   "metadata": {},
   "outputs": [],
   "source": [
    "# # EXECUTE ESSA CÉLULA CASO QUEIRA REALIZAR A SEÇÃO 5 MAS NÃO TENHA CONCLUÍDO A SEÇÃO 4, PARA OBTER UM EXEMPLO DE SAÍDA DA SEÇÃO 4.3\n",
    "# y_test = np.load('dataset/exemplo_y_test.npy')      # labels do y_test (real)\n",
    "# y_pred = np.load('dataset/exemplo_y_pred.npy')      # labels da saída do modelo (previsto)\n",
    "# labels = [1, 2, 0, 3]\n",
    "# target_names = ['Low', 'Mid', 'High', 'Very High']"
   ]
  },
  {
   "cell_type": "markdown",
   "id": "b49aa623",
   "metadata": {},
   "source": [
    "<h4><b>Seção 5.1: Faça uma avaliação da saída do modelo com os dados de teste (1,5)</b></h4>\n",
    "\n",
    "<p>Utilizem representações como matriz de confusão e principais métricas como acurácia, revocação, f1-score...</p>"
   ]
  },
  {
   "cell_type": "code",
   "execution_count": 77,
   "id": "a8dff03b",
   "metadata": {},
   "outputs": [],
   "source": [
    "# =========== TODO ===========\n",
    "\n"
   ]
  },
  {
   "cell_type": "code",
   "execution_count": null,
   "id": "1c39030b",
   "metadata": {},
   "outputs": [],
   "source": []
  }
 ],
 "metadata": {
  "kernelspec": {
   "display_name": "Python 3",
   "language": "python",
   "name": "python3"
  },
  "language_info": {
   "codemirror_mode": {
    "name": "ipython",
    "version": 3
   },
   "file_extension": ".py",
   "mimetype": "text/x-python",
   "name": "python",
   "nbconvert_exporter": "python",
   "pygments_lexer": "ipython3",
   "version": "3.12.2"
  }
 },
 "nbformat": 4,
 "nbformat_minor": 5
}
